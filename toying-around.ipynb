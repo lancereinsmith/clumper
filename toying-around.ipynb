{
 "cells": [
  {
   "cell_type": "code",
   "execution_count": 1,
   "id": "e2a27472-6b4d-4a8a-84d3-c9589d62070a",
   "metadata": {},
   "outputs": [],
   "source": [
    "%load_ext autoreload"
   ]
  },
  {
   "cell_type": "code",
   "execution_count": 2,
   "id": "171b6077-853f-4bfe-a984-f45a74078c9d",
   "metadata": {},
   "outputs": [],
   "source": [
    "%autoreload 2"
   ]
  },
  {
   "cell_type": "code",
   "execution_count": 4,
   "id": "9be29951-3c65-4a03-a2be-590e47de4a38",
   "metadata": {},
   "outputs": [],
   "source": [
    "from clumper.clump import Clumper"
   ]
  },
  {
   "cell_type": "code",
   "execution_count": 6,
   "id": "6c128390-b85b-420b-a541-514533b345fa",
   "metadata": {},
   "outputs": [
    {
     "data": {
      "text/plain": [
       "<clumper.clump.Clumper at 0x1042fbd60>"
      ]
     },
     "execution_count": 6,
     "metadata": {},
     "output_type": "execute_result"
    }
   ],
   "source": [
    "Clumper([])"
   ]
  },
  {
   "cell_type": "code",
   "execution_count": null,
   "id": "8a2ae1a9-e43b-450d-b993-951df8d4354c",
   "metadata": {},
   "outputs": [],
   "source": []
  }
 ],
 "metadata": {
  "kernelspec": {
   "display_name": "Python 3",
   "language": "python",
   "name": "python3"
  },
  "language_info": {
   "codemirror_mode": {
    "name": "ipython",
    "version": 3
   },
   "file_extension": ".py",
   "mimetype": "text/x-python",
   "name": "python",
   "nbconvert_exporter": "python",
   "pygments_lexer": "ipython3",
   "version": "3.9.5"
  }
 },
 "nbformat": 4,
 "nbformat_minor": 5
}
